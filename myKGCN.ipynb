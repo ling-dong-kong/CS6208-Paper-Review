{
 "cells": [
  {
   "cell_type": "code",
   "execution_count": 1,
   "metadata": {
    "tags": []
   },
   "outputs": [],
   "source": [
    "import argparse\n",
    "import numpy as np\n",
    "import matplotlib.pyplot as plt\n",
    "\n",
    "from sklearn.model_selection import train_test_split\n",
    "from sklearn.metrics import roc_auc_score\n",
    "\n",
    "import torch\n",
    "import torch.optim as optim\n",
    "\n",
    "from data_loader import DataLoader\n",
    "from model import KGCN"
   ]
  },
  {
   "cell_type": "code",
   "execution_count": 3,
   "metadata": {},
   "outputs": [],
   "source": [
    "# prepare arguments (hyperparameters)\n",
    "parser = argparse.ArgumentParser()\n",
    "\n",
    "parser.add_argument(\n",
    "    '--dataset', type=str, default='movie', help='dataset type'\n",
    ")\n",
    "parser.add_argument(\n",
    "    '--aggregator', type=str, default='concat', help='which aggregator to use'\n",
    ")\n",
    "parser.add_argument(\n",
    "    '--n_epochs', type=int, default=10, help='the number of epochs'\n",
    ")\n",
    "parser.add_argument(\n",
    "    '--neighbor_sample_size', type=int, default=4, help='the number of neighbors to be sampled'\n",
    ")\n",
    "parser.add_argument(\n",
    "    '--dim', type=int, default=32, help='dimension of user and entity embeddings'\n",
    ")\n",
    "parser.add_argument(\n",
    "    '--n_iter', type=int, default=2, help='number of iterations when computing entity representation'\n",
    ")\n",
    "parser.add_argument(\n",
    "    '--batch_size', type=int, default=6000, help='batch size'\n",
    ")\n",
    "parser.add_argument(\n",
    "    '--l2_weight', type=float, default=1e-7, help='weight of l2 regularization'\n",
    ")\n",
    "parser.add_argument(\n",
    "    '--lr', type=float, default=2e-2, help='learning rate'\n",
    ")\n",
    "parser.add_argument(\n",
    "    '--ratio', type=float, default=0.1, help='size of training dataset'\n",
    ")\n",
    "\n",
    "args = parser.parse_args(['--l2_weight', '1e-7'])"
   ]
  },
  {
   "cell_type": "code",
   "execution_count": 4,
   "metadata": {
    "tags": []
   },
   "outputs": [
    {
     "name": "stdout",
     "output_type": "stream",
     "text": [
      "Build dataset dataframe ...\n",
      "Done\n",
      "6750811\n",
      "0.5\n"
     ]
    },
    {
     "data": {
      "text/html": [
       "<div>\n",
       "<style scoped>\n",
       "    .dataframe tbody tr th:only-of-type {\n",
       "        vertical-align: middle;\n",
       "    }\n",
       "\n",
       "    .dataframe tbody tr th {\n",
       "        vertical-align: top;\n",
       "    }\n",
       "\n",
       "    .dataframe thead th {\n",
       "        text-align: right;\n",
       "    }\n",
       "</style>\n",
       "<table border=\"1\" class=\"dataframe\">\n",
       "  <thead>\n",
       "    <tr style=\"text-align: right;\">\n",
       "      <th></th>\n",
       "      <th>userID</th>\n",
       "      <th>itemID</th>\n",
       "      <th>label</th>\n",
       "    </tr>\n",
       "  </thead>\n",
       "  <tbody>\n",
       "    <tr>\n",
       "      <th>0</th>\n",
       "      <td>43756</td>\n",
       "      <td>2112</td>\n",
       "      <td>1</td>\n",
       "    </tr>\n",
       "    <tr>\n",
       "      <th>1</th>\n",
       "      <td>105399</td>\n",
       "      <td>58958</td>\n",
       "      <td>0</td>\n",
       "    </tr>\n",
       "    <tr>\n",
       "      <th>2</th>\n",
       "      <td>70259</td>\n",
       "      <td>54684</td>\n",
       "      <td>0</td>\n",
       "    </tr>\n",
       "    <tr>\n",
       "      <th>3</th>\n",
       "      <td>19649</td>\n",
       "      <td>2147</td>\n",
       "      <td>1</td>\n",
       "    </tr>\n",
       "    <tr>\n",
       "      <th>4</th>\n",
       "      <td>95220</td>\n",
       "      <td>284</td>\n",
       "      <td>0</td>\n",
       "    </tr>\n",
       "    <tr>\n",
       "      <th>...</th>\n",
       "      <td>...</td>\n",
       "      <td>...</td>\n",
       "      <td>...</td>\n",
       "    </tr>\n",
       "    <tr>\n",
       "      <th>13501617</th>\n",
       "      <td>122461</td>\n",
       "      <td>89830</td>\n",
       "      <td>0</td>\n",
       "    </tr>\n",
       "    <tr>\n",
       "      <th>13501618</th>\n",
       "      <td>30839</td>\n",
       "      <td>8126</td>\n",
       "      <td>0</td>\n",
       "    </tr>\n",
       "    <tr>\n",
       "      <th>13501619</th>\n",
       "      <td>15512</td>\n",
       "      <td>1331</td>\n",
       "      <td>1</td>\n",
       "    </tr>\n",
       "    <tr>\n",
       "      <th>13501620</th>\n",
       "      <td>86197</td>\n",
       "      <td>70060</td>\n",
       "      <td>0</td>\n",
       "    </tr>\n",
       "    <tr>\n",
       "      <th>13501621</th>\n",
       "      <td>94519</td>\n",
       "      <td>9121</td>\n",
       "      <td>0</td>\n",
       "    </tr>\n",
       "  </tbody>\n",
       "</table>\n",
       "<p>13501622 rows × 3 columns</p>\n",
       "</div>"
      ],
      "text/plain": [
       "          userID  itemID  label\n",
       "0          43756    2112      1\n",
       "1         105399   58958      0\n",
       "2          70259   54684      0\n",
       "3          19649    2147      1\n",
       "4          95220     284      0\n",
       "...          ...     ...    ...\n",
       "13501617  122461   89830      0\n",
       "13501618   30839    8126      0\n",
       "13501619   15512    1331      1\n",
       "13501620   86197   70060      0\n",
       "13501621   94519    9121      0\n",
       "\n",
       "[13501622 rows x 3 columns]"
      ]
     },
     "execution_count": 4,
     "metadata": {},
     "output_type": "execute_result"
    }
   ],
   "source": [
    "# build dataset and knowledge graph\n",
    "data_loader = DataLoader(args.dataset)\n",
    "df_dataset = data_loader.load_dataset()\n",
    "print((df_dataset['label'] != 0).sum())\n",
    "print((df_dataset['label'] != 0).sum()/len(df_dataset['label']))\n",
    "df_dataset"
   ]
  },
  {
   "cell_type": "code",
   "execution_count": 5,
   "metadata": {},
   "outputs": [
    {
     "name": "stdout",
     "output_type": "stream",
     "text": [
      "Construct knowledge graph ... Done\n"
     ]
    }
   ],
   "source": [
    "kg = data_loader.load_kg()"
   ]
  },
  {
   "cell_type": "code",
   "execution_count": 6,
   "metadata": {},
   "outputs": [],
   "source": [
    "# Dataset class\n",
    "class KGCNDataset(torch.utils.data.Dataset):\n",
    "\n",
    "    def __init__(self, df):\n",
    "        self.df = df\n",
    "\n",
    "    def __len__(self):\n",
    "        return len(self.df)\n",
    "    \n",
    "    def __getitem__(self, idx):\n",
    "        user_id = np.array(self.df.iloc[idx]['userID'])\n",
    "        item_id = np.array(self.df.iloc[idx]['itemID'])\n",
    "        label = np.array(self.df.iloc[idx]['label'], dtype=np.float32)\n",
    "        \n",
    "        return user_id, item_id, label"
   ]
  },
  {
   "cell_type": "code",
   "execution_count": 7,
   "metadata": {},
   "outputs": [],
   "source": [
    "# train / test splits\n",
    "x_train, x_test, y_train, y_test = train_test_split(df_dataset, df_dataset['label'], test_size=1 - args.ratio, shuffle=False, random_state=999)\n",
    "\n",
    "x_train, x_test, y_train, y_test  = train_test_split(x_train, y_train, test_size=0.2, shuffle=False, random_state=999)\n",
    "\n",
    "train_dataset = KGCNDataset(x_train)\n",
    "test_dataset = KGCNDataset(x_test)\n",
    "\n",
    "train_loader = torch.utils.data.DataLoader(\n",
    "    train_dataset, batch_size=args.batch_size,\n",
    ")\n",
    "test_loader = torch.utils.data.DataLoader(\n",
    "    test_dataset, batch_size=args.batch_size,\n",
    ")"
   ]
  },
  {
   "cell_type": "code",
   "execution_count": 39,
   "metadata": {},
   "outputs": [
    {
     "name": "stdout",
     "output_type": "stream",
     "text": [
      "138493\n",
      "device:  cuda\n"
     ]
    }
   ],
   "source": [
    "# prepare network, loss function, and optimizer\n",
    "num_user, num_entity, num_relation = data_loader.get_num()\n",
    "print(num_user)\n",
    "\n",
    "user_encoder, entity_encoder, relation_encoder = data_loader.get_encoders()\n",
    "device = torch.device('cuda' if torch.cuda.is_available() else 'cpu')\n",
    "print('device: ', device)\n",
    "\n",
    "net = KGCN(\n",
    "    num_user, num_entity, num_relation, kg, args, device,\n",
    ").to(device)\n",
    "criterion = torch.nn.BCELoss()\n",
    "optimizer = optim.Adam(\n",
    "    net.parameters(), lr=args.lr, weight_decay=args.l2_weight,\n",
    ")"
   ]
  },
  {
   "cell_type": "code",
   "execution_count": 40,
   "metadata": {},
   "outputs": [
    {
     "name": "stdout",
     "output_type": "stream",
     "text": [
      "[Epoch 1]train_loss:  0.4698682387066151\n",
      "[Epoch 1]test_loss:  0.24966704780640808\n",
      "[Epoch 1]auc_score:  0.9591963131674971\n",
      "[Epoch 2]train_loss:  0.19663172610392227\n",
      "[Epoch 2]test_loss:  0.20501944066389746\n",
      "[Epoch 2]auc_score:  0.9735276034363691\n",
      "[Epoch 3]train_loss:  0.15764483533676157\n",
      "[Epoch 3]test_loss:  0.21685828657253928\n",
      "[Epoch 3]auc_score:  0.9742108268532618\n",
      "[Epoch 4]train_loss:  0.11207812243444815\n",
      "[Epoch 4]test_loss:  0.2236943688729535\n",
      "[Epoch 4]auc_score:  0.9743864120188632\n",
      "[Epoch 5]train_loss:  0.0642000624423754\n",
      "[Epoch 5]test_loss:  0.22492933921192004\n",
      "[Epoch 5]auc_score:  0.9738554388666253\n",
      "[Epoch 6]train_loss:  0.03898071081799491\n",
      "[Epoch 6]test_loss:  0.21797446355871533\n",
      "[Epoch 6]auc_score:  0.9750685986575695\n",
      "[Epoch 7]train_loss:  0.026522910439805515\n",
      "[Epoch 7]test_loss:  0.21662283364845358\n",
      "[Epoch 7]auc_score:  0.9755040325583366\n",
      "[Epoch 8]train_loss:  0.020307198251425213\n",
      "[Epoch 8]test_loss:  0.21181773426740066\n",
      "[Epoch 8]auc_score:  0.9761412975097251\n",
      "[Epoch 9]train_loss:  0.0170583964157618\n",
      "[Epoch 9]test_loss:  0.2081669637042543\n",
      "[Epoch 9]auc_score:  0.9761409946034287\n",
      "[Epoch 10]train_loss:  0.015230413282371142\n",
      "[Epoch 10]test_loss:  0.2056513091792231\n",
      "[Epoch 10]auc_score:  0.9772375145859283\n"
     ]
    }
   ],
   "source": [
    "# train steps start here\n",
    "loss_list = []\n",
    "test_loss_list = []\n",
    "auc_score_list = []\n",
    "\n",
    "for epoch in range(args.n_epochs):\n",
    "    running_loss = 0.0\n",
    "    for i, (user_ids, item_ids, labels) in enumerate(train_loader):\n",
    "        user_ids, item_ids, labels = user_ids.to(device), item_ids.to(device), labels.to(device)\n",
    "        optimizer.zero_grad()\n",
    "        outputs = net(user_ids, item_ids)\n",
    "\n",
    "        loss = criterion(outputs, labels)\n",
    "        loss.backward()\n",
    "        \n",
    "        optimizer.step()\n",
    "\n",
    "        running_loss += loss.item()\n",
    "    \n",
    "    # print train loss per every epoch\n",
    "    print('[Epoch {}]train_loss: '.format(epoch+1), running_loss / len(train_loader))\n",
    "    loss_list.append(running_loss / len(train_loader))\n",
    "        \n",
    "    # evaluate per every epoch\n",
    "    with torch.no_grad():\n",
    "        test_loss = 0\n",
    "        total_roc = 0\n",
    "        for user_ids, item_ids, labels in test_loader:\n",
    "            user_ids, item_ids, labels = user_ids.to(device), item_ids.to(device), labels.to(device)\n",
    "            outputs = net(user_ids, item_ids)\n",
    "            test_loss += criterion(outputs, labels).item()\n",
    "            total_roc += roc_auc_score(labels.cpu().detach().numpy(), outputs.cpu().detach().numpy())\n",
    "        \n",
    "        print('[Epoch {}]test_loss: '.format(epoch+1), test_loss / len(test_loader))\n",
    "        print('[Epoch {}]auc_score: '.format(epoch+1), total_roc / len(test_loader))\n",
    "        test_loss_list.append(test_loss / len(test_loader))\n",
    "        auc_score_list.append(total_roc / len(test_loader))"
   ]
  },
  {
   "cell_type": "code",
   "execution_count": 41,
   "metadata": {},
   "outputs": [
    {
     "data": {
      "image/png": "[encoded data removed]",
      "text/plain": [
       "<Figure size 720x288 with 2 Axes>"
      ]
     },
     "metadata": {
      "needs_background": "light"
     },
     "output_type": "display_data"
    }
   ],
   "source": [
    "# plot losses / scores\n",
    "fig, (ax1,ax2) = plt.subplots(1,2, figsize=(10,4))  # 1 row, 2 columns\n",
    "ax1.plot(loss_list)\n",
    "ax1.plot(test_loss_list)\n",
    "ax2.plot(auc_score_list)\n",
    "\n",
    "plt.tight_layout()"
   ]
  },
  {
   "cell_type": "code",
   "execution_count": 42,
   "metadata": {},
   "outputs": [
    {
     "name": "stdout",
     "output_type": "stream",
     "text": [
      "train_loss [0.4698682387066151, 0.19663172610392227, 0.15764483533676157, 0.11207812243444815, 0.0642000624423754, 0.03898071081799491, 0.026522910439805515, 0.020307198251425213, 0.0170583964157618, 0.015230413282371142]\n",
      "test_loss [0.24966704780640808, 0.20501944066389746, 0.21685828657253928, 0.2236943688729535, 0.22492933921192004, 0.21797446355871533, 0.21662283364845358, 0.21181773426740066, 0.2081669637042543, 0.2056513091792231]\n",
      "accuracy [0.9591963131674971, 0.9735276034363691, 0.9742108268532618, 0.9743864120188632, 0.9738554388666253, 0.9750685986575695, 0.9755040325583366, 0.9761412975097251, 0.9761409946034287, 0.9772375145859283]\n"
     ]
    }
   ],
   "source": [
    "print('train_loss', loss_list)\n",
    "print('test_loss', test_loss_list)\n",
    "print('accuracy', auc_score_list)"
   ]
  }
 ],
 "metadata": {
  "kernelspec": {
   "display_name": "Python 3",
   "language": "python",
   "name": "python3"
  },
  "language_info": {
   "codemirror_mode": {
    "name": "ipython",
    "version": 3
   },
   "file_extension": ".py",
   "mimetype": "text/x-python",
   "name": "python",
   "nbconvert_exporter": "python",
   "pygments_lexer": "ipython3",
   "version": "3.9.12"
  }
 },
 "nbformat": 4,
 "nbformat_minor": 4
}
